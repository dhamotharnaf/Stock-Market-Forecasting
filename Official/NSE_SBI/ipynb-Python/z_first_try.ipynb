{
 "cells": [
  {
   "cell_type": "code",
   "execution_count": 139,
   "metadata": {},
   "outputs": [
    {
     "name": "stderr",
     "output_type": "stream",
     "text": [
      "<ipython-input-139-f8476dfdbffa>:2: FutureWarning: The pandas.datetime class is deprecated and will be removed from pandas in a future version. Import from datetime module instead.\n",
      "  from pandas import datetime\n"
     ]
    }
   ],
   "source": [
    "from pandas import read_csv\n",
    "from pandas import datetime\n",
    "from matplotlib import pyplot as plt\n",
    "from sklearn.metrics import mean_squared_error\n",
    "from sklearn import linear_model\n",
    "import numpy as np\n",
    "import pandas as pd\n",
    "plt.style.use('fivethirtyeight')"
   ]
  },
  {
   "cell_type": "code",
   "execution_count": 163,
   "metadata": {},
   "outputs": [
    {
     "data": {
      "text/html": [
       "<div>\n",
       "<style scoped>\n",
       "    .dataframe tbody tr th:only-of-type {\n",
       "        vertical-align: middle;\n",
       "    }\n",
       "\n",
       "    .dataframe tbody tr th {\n",
       "        vertical-align: top;\n",
       "    }\n",
       "\n",
       "    .dataframe thead th {\n",
       "        text-align: right;\n",
       "    }\n",
       "</style>\n",
       "<table border=\"1\" class=\"dataframe\">\n",
       "  <thead>\n",
       "    <tr style=\"text-align: right;\">\n",
       "      <th></th>\n",
       "      <th>Date</th>\n",
       "      <th>Symbol</th>\n",
       "      <th>Series</th>\n",
       "      <th>Open</th>\n",
       "      <th>High</th>\n",
       "      <th>Low</th>\n",
       "      <th>AdjClose</th>\n",
       "      <th>Close</th>\n",
       "      <th>Quantity</th>\n",
       "      <th>TurnoverInLacks</th>\n",
       "    </tr>\n",
       "  </thead>\n",
       "  <tbody>\n",
       "    <tr>\n",
       "      <th>0</th>\n",
       "      <td>01-Jan-21</td>\n",
       "      <td>SBIN</td>\n",
       "      <td>EQ</td>\n",
       "      <td>274.90</td>\n",
       "      <td>280.00</td>\n",
       "      <td>274.4</td>\n",
       "      <td>279.05</td>\n",
       "      <td>279.40</td>\n",
       "      <td>24531791</td>\n",
       "      <td>68279.68</td>\n",
       "    </tr>\n",
       "    <tr>\n",
       "      <th>1</th>\n",
       "      <td>31-Dec-20</td>\n",
       "      <td>SBIN</td>\n",
       "      <td>EQ</td>\n",
       "      <td>275.00</td>\n",
       "      <td>277.25</td>\n",
       "      <td>272.6</td>\n",
       "      <td>274.40</td>\n",
       "      <td>274.95</td>\n",
       "      <td>29467966</td>\n",
       "      <td>81121.61</td>\n",
       "    </tr>\n",
       "    <tr>\n",
       "      <th>2</th>\n",
       "      <td>30-Dec-20</td>\n",
       "      <td>SBIN</td>\n",
       "      <td>EQ</td>\n",
       "      <td>278.00</td>\n",
       "      <td>278.70</td>\n",
       "      <td>272.5</td>\n",
       "      <td>275.50</td>\n",
       "      <td>276.90</td>\n",
       "      <td>30971894</td>\n",
       "      <td>85316.81</td>\n",
       "    </tr>\n",
       "    <tr>\n",
       "      <th>3</th>\n",
       "      <td>29-Dec-20</td>\n",
       "      <td>SBIN</td>\n",
       "      <td>EQ</td>\n",
       "      <td>276.30</td>\n",
       "      <td>279.90</td>\n",
       "      <td>274.7</td>\n",
       "      <td>277.75</td>\n",
       "      <td>277.90</td>\n",
       "      <td>45032526</td>\n",
       "      <td>124992.51</td>\n",
       "    </tr>\n",
       "    <tr>\n",
       "      <th>4</th>\n",
       "      <td>28-Dec-20</td>\n",
       "      <td>SBIN</td>\n",
       "      <td>EQ</td>\n",
       "      <td>268.75</td>\n",
       "      <td>276.00</td>\n",
       "      <td>268.0</td>\n",
       "      <td>275.75</td>\n",
       "      <td>275.20</td>\n",
       "      <td>36870242</td>\n",
       "      <td>100373.67</td>\n",
       "    </tr>\n",
       "  </tbody>\n",
       "</table>\n",
       "</div>"
      ],
      "text/plain": [
       "        Date Symbol Series    Open    High    Low  AdjClose   Close  Quantity  \\\n",
       "0  01-Jan-21   SBIN     EQ  274.90  280.00  274.4    279.05  279.40  24531791   \n",
       "1  31-Dec-20   SBIN     EQ  275.00  277.25  272.6    274.40  274.95  29467966   \n",
       "2  30-Dec-20   SBIN     EQ  278.00  278.70  272.5    275.50  276.90  30971894   \n",
       "3  29-Dec-20   SBIN     EQ  276.30  279.90  274.7    277.75  277.90  45032526   \n",
       "4  28-Dec-20   SBIN     EQ  268.75  276.00  268.0    275.75  275.20  36870242   \n",
       "\n",
       "   TurnoverInLacks  \n",
       "0         68279.68  \n",
       "1         81121.61  \n",
       "2         85316.81  \n",
       "3        124992.51  \n",
       "4        100373.67  "
      ]
     },
     "execution_count": 163,
     "metadata": {},
     "output_type": "execute_result"
    }
   ],
   "source": [
    "df = pd.read_csv(\"data_SBI_NSE_last3monts2.csv\",delimiter=',',header=None,skiprows=1,names=['Date','Symbol','Series','Open','High','Low','AdjClose','Close','Quantity','TurnoverInLacks'])\n",
    "df.head(5)"
   ]
  },
  {
   "cell_type": "code",
   "execution_count": 141,
   "metadata": {},
   "outputs": [
    {
     "data": {
      "text/plain": [
       "Index(['Date', 'Symbol', 'Series', 'Open', 'High', 'Low', 'AdjClose', 'Close',\n",
       "       'Quantity', 'TurnoverInLacks'],\n",
       "      dtype='object')"
      ]
     },
     "execution_count": 141,
     "metadata": {},
     "output_type": "execute_result"
    }
   ],
   "source": [
    "df.columns"
   ]
  },
  {
   "cell_type": "code",
   "execution_count": 142,
   "metadata": {},
   "outputs": [
    {
     "data": {
      "text/html": [
       "<div>\n",
       "<style scoped>\n",
       "    .dataframe tbody tr th:only-of-type {\n",
       "        vertical-align: middle;\n",
       "    }\n",
       "\n",
       "    .dataframe tbody tr th {\n",
       "        vertical-align: top;\n",
       "    }\n",
       "\n",
       "    .dataframe thead th {\n",
       "        text-align: right;\n",
       "    }\n",
       "</style>\n",
       "<table border=\"1\" class=\"dataframe\">\n",
       "  <thead>\n",
       "    <tr style=\"text-align: right;\">\n",
       "      <th></th>\n",
       "      <th>Open</th>\n",
       "      <th>High</th>\n",
       "      <th>Low</th>\n",
       "      <th>AdjClose</th>\n",
       "      <th>Close</th>\n",
       "      <th>Quantity</th>\n",
       "      <th>TurnoverInLacks</th>\n",
       "    </tr>\n",
       "  </thead>\n",
       "  <tbody>\n",
       "    <tr>\n",
       "      <th>count</th>\n",
       "      <td>63.000000</td>\n",
       "      <td>63.000000</td>\n",
       "      <td>63.000000</td>\n",
       "      <td>63.000000</td>\n",
       "      <td>63.000000</td>\n",
       "      <td>6.300000e+01</td>\n",
       "      <td>63.000000</td>\n",
       "    </tr>\n",
       "    <tr>\n",
       "      <th>mean</th>\n",
       "      <td>232.174603</td>\n",
       "      <td>236.036508</td>\n",
       "      <td>228.717460</td>\n",
       "      <td>232.892063</td>\n",
       "      <td>232.953175</td>\n",
       "      <td>5.450876e+07</td>\n",
       "      <td>126092.857937</td>\n",
       "    </tr>\n",
       "    <tr>\n",
       "      <th>std</th>\n",
       "      <td>31.120983</td>\n",
       "      <td>31.331652</td>\n",
       "      <td>31.034378</td>\n",
       "      <td>31.390781</td>\n",
       "      <td>31.460547</td>\n",
       "      <td>2.618452e+07</td>\n",
       "      <td>61287.332060</td>\n",
       "    </tr>\n",
       "    <tr>\n",
       "      <th>min</th>\n",
       "      <td>189.350000</td>\n",
       "      <td>190.700000</td>\n",
       "      <td>185.900000</td>\n",
       "      <td>189.300000</td>\n",
       "      <td>188.700000</td>\n",
       "      <td>7.753219e+06</td>\n",
       "      <td>17908.150000</td>\n",
       "    </tr>\n",
       "    <tr>\n",
       "      <th>25%</th>\n",
       "      <td>200.350000</td>\n",
       "      <td>204.475000</td>\n",
       "      <td>196.650000</td>\n",
       "      <td>200.775000</td>\n",
       "      <td>201.425000</td>\n",
       "      <td>3.590992e+07</td>\n",
       "      <td>79693.585000</td>\n",
       "    </tr>\n",
       "    <tr>\n",
       "      <th>50%</th>\n",
       "      <td>233.200000</td>\n",
       "      <td>241.600000</td>\n",
       "      <td>231.000000</td>\n",
       "      <td>238.600000</td>\n",
       "      <td>238.700000</td>\n",
       "      <td>4.849564e+07</td>\n",
       "      <td>111259.170000</td>\n",
       "    </tr>\n",
       "    <tr>\n",
       "      <th>75%</th>\n",
       "      <td>264.400000</td>\n",
       "      <td>268.925000</td>\n",
       "      <td>259.300000</td>\n",
       "      <td>265.450000</td>\n",
       "      <td>265.175000</td>\n",
       "      <td>6.737169e+07</td>\n",
       "      <td>149944.700000</td>\n",
       "    </tr>\n",
       "    <tr>\n",
       "      <th>max</th>\n",
       "      <td>278.000000</td>\n",
       "      <td>280.000000</td>\n",
       "      <td>274.700000</td>\n",
       "      <td>279.050000</td>\n",
       "      <td>279.400000</td>\n",
       "      <td>1.380236e+08</td>\n",
       "      <td>310228.160000</td>\n",
       "    </tr>\n",
       "  </tbody>\n",
       "</table>\n",
       "</div>"
      ],
      "text/plain": [
       "             Open        High         Low    AdjClose       Close  \\\n",
       "count   63.000000   63.000000   63.000000   63.000000   63.000000   \n",
       "mean   232.174603  236.036508  228.717460  232.892063  232.953175   \n",
       "std     31.120983   31.331652   31.034378   31.390781   31.460547   \n",
       "min    189.350000  190.700000  185.900000  189.300000  188.700000   \n",
       "25%    200.350000  204.475000  196.650000  200.775000  201.425000   \n",
       "50%    233.200000  241.600000  231.000000  238.600000  238.700000   \n",
       "75%    264.400000  268.925000  259.300000  265.450000  265.175000   \n",
       "max    278.000000  280.000000  274.700000  279.050000  279.400000   \n",
       "\n",
       "           Quantity  TurnoverInLacks  \n",
       "count  6.300000e+01        63.000000  \n",
       "mean   5.450876e+07    126092.857937  \n",
       "std    2.618452e+07     61287.332060  \n",
       "min    7.753219e+06     17908.150000  \n",
       "25%    3.590992e+07     79693.585000  \n",
       "50%    4.849564e+07    111259.170000  \n",
       "75%    6.737169e+07    149944.700000  \n",
       "max    1.380236e+08    310228.160000  "
      ]
     },
     "execution_count": 142,
     "metadata": {},
     "output_type": "execute_result"
    }
   ],
   "source": [
    "df.describe()"
   ]
  },
  {
   "cell_type": "code",
   "execution_count": 143,
   "metadata": {},
   "outputs": [],
   "source": [
    "x = df[['Open','High','Low']].values\n",
    "y = df[['Close']].values"
   ]
  },
  {
   "cell_type": "code",
   "execution_count": 144,
   "metadata": {},
   "outputs": [],
   "source": [
    "from sklearn.model_selection import train_test_split\n",
    "x_train,x_test,y_train,y_test = train_test_split(x,y)"
   ]
  },
  {
   "cell_type": "code",
   "execution_count": 145,
   "metadata": {},
   "outputs": [
    {
     "name": "stdout",
     "output_type": "stream",
     "text": [
      "x_train has (47, 4) Shape\n",
      "y_train has (47, 1) Shape\n",
      "x_test has (16, 4) Shape\n",
      "y_test has (16, 1) Shape\n"
     ]
    }
   ],
   "source": [
    "print(\"x_train has\",x_train.shape,\"Shape\")\n",
    "print(\"y_train has\",y_train.shape,\"Shape\")\n",
    "print(\"x_test has\",x_test.shape,\"Shape\")\n",
    "print(\"y_test has\",y_test.shape,\"Shape\")"
   ]
  },
  {
   "cell_type": "code",
   "execution_count": 146,
   "metadata": {},
   "outputs": [],
   "source": [
    "from sklearn.linear_model import LinearRegression\n",
    "LinearRegression = LinearRegression()"
   ]
  },
  {
   "cell_type": "code",
   "execution_count": 147,
   "metadata": {},
   "outputs": [],
   "source": [
    "LinearRegression = LinearRegression.fit(x_train,y_train)"
   ]
  },
  {
   "cell_type": "code",
   "execution_count": 148,
   "metadata": {},
   "outputs": [
    {
     "name": "stdout",
     "output_type": "stream",
     "text": [
      "[[-6.17568697e-01  9.20168303e-01  7.03094200e-01  2.25427355e-09]]\n",
      "[-1.85383859]\n"
     ]
    }
   ],
   "source": [
    "print(LinearRegression.coef_)\n",
    "print(LinearRegression.intercept_)"
   ]
  },
  {
   "cell_type": "code",
   "execution_count": 149,
   "metadata": {},
   "outputs": [],
   "source": [
    "PredictionOfTest = LinearRegression.predict(x_test)"
   ]
  },
  {
   "cell_type": "code",
   "execution_count": 150,
   "metadata": {},
   "outputs": [
    {
     "data": {
      "text/html": [
       "<div>\n",
       "<style scoped>\n",
       "    .dataframe tbody tr th:only-of-type {\n",
       "        vertical-align: middle;\n",
       "    }\n",
       "\n",
       "    .dataframe tbody tr th {\n",
       "        vertical-align: top;\n",
       "    }\n",
       "\n",
       "    .dataframe thead th {\n",
       "        text-align: right;\n",
       "    }\n",
       "</style>\n",
       "<table border=\"1\" class=\"dataframe\">\n",
       "  <thead>\n",
       "    <tr style=\"text-align: right;\">\n",
       "      <th></th>\n",
       "      <th>Actual</th>\n",
       "      <th>Predicted</th>\n",
       "    </tr>\n",
       "  </thead>\n",
       "  <tbody>\n",
       "    <tr>\n",
       "      <th>0</th>\n",
       "      <td>271.90</td>\n",
       "      <td>269.309644</td>\n",
       "    </tr>\n",
       "    <tr>\n",
       "      <th>1</th>\n",
       "      <td>243.00</td>\n",
       "      <td>246.550088</td>\n",
       "    </tr>\n",
       "    <tr>\n",
       "      <th>2</th>\n",
       "      <td>270.65</td>\n",
       "      <td>269.686947</td>\n",
       "    </tr>\n",
       "    <tr>\n",
       "      <th>3</th>\n",
       "      <td>200.05</td>\n",
       "      <td>198.992514</td>\n",
       "    </tr>\n",
       "    <tr>\n",
       "      <th>4</th>\n",
       "      <td>203.05</td>\n",
       "      <td>203.250884</td>\n",
       "    </tr>\n",
       "    <tr>\n",
       "      <th>5</th>\n",
       "      <td>219.50</td>\n",
       "      <td>218.355262</td>\n",
       "    </tr>\n",
       "  </tbody>\n",
       "</table>\n",
       "</div>"
      ],
      "text/plain": [
       "   Actual   Predicted\n",
       "0  271.90  269.309644\n",
       "1  243.00  246.550088\n",
       "2  270.65  269.686947\n",
       "3  200.05  198.992514\n",
       "4  203.05  203.250884\n",
       "5  219.50  218.355262"
      ]
     },
     "execution_count": 150,
     "metadata": {},
     "output_type": "execute_result"
    }
   ],
   "source": [
    "dframe = pd.DataFrame({'Actual':y_test.flatten(),'Predicted':PredictionOfTest.flatten()})\n",
    "dframe.head(6)"
   ]
  },
  {
   "cell_type": "code",
   "execution_count": 151,
   "metadata": {},
   "outputs": [
    {
     "name": "stdout",
     "output_type": "stream",
     "text": [
      "Mean Absolute Error: 1.5095247049145737\n",
      "Mean Squred Error: 4.449411402868223\n",
      "Root Mean Squred Error: 2.1093627954593828\n",
      "accuracy score:  100.0 %\n"
     ]
    }
   ],
   "source": [
    "from sklearn import metrics\n",
    "MAE = print('Mean Absolute Error:', metrics.mean_absolute_error(y_test,PredictionOfTest))\n",
    "MSE = print('Mean Squred Error:', metrics.mean_squared_error(y_test,PredictionOfTest))\n",
    "RMSE= print('Root Mean Squred Error:', np.sqrt(metrics.mean_squared_error(y_test,PredictionOfTest)))\n",
    "accuracy = LinearRegression.score(x_test,PredictionOfTest) \n",
    "print('accuracy score: ',accuracy*100,'%')"
   ]
  },
  {
   "cell_type": "code",
   "execution_count": 153,
   "metadata": {},
   "outputs": [
    {
     "data": {
      "text/plain": [
       "<matplotlib.axes._subplots.AxesSubplot at 0x1be67aaca60>"
      ]
     },
     "execution_count": 153,
     "metadata": {},
     "output_type": "execute_result"
    },
    {
     "data": {
      "image/png": "[encoded data removed]",
      "text/plain": [
       "<Figure size 1152x576 with 1 Axes>"
      ]
     },
     "metadata": {},
     "output_type": "display_data"
    }
   ],
   "source": [
    "import math\n",
    "graph = dframe.head(20)\n",
    "graph.plot(kind='bar',figsize=(16,8))"
   ]
  },
  {
   "cell_type": "code",
   "execution_count": 154,
   "metadata": {},
   "outputs": [],
   "source": [
    "PredictionOfAll = LinearRegression.predict(x)"
   ]
  },
  {
   "cell_type": "code",
   "execution_count": 155,
   "metadata": {},
   "outputs": [
    {
     "data": {
      "text/html": [
       "<div>\n",
       "<style scoped>\n",
       "    .dataframe tbody tr th:only-of-type {\n",
       "        vertical-align: middle;\n",
       "    }\n",
       "\n",
       "    .dataframe tbody tr th {\n",
       "        vertical-align: top;\n",
       "    }\n",
       "\n",
       "    .dataframe thead th {\n",
       "        text-align: right;\n",
       "    }\n",
       "</style>\n",
       "<table border=\"1\" class=\"dataframe\">\n",
       "  <thead>\n",
       "    <tr style=\"text-align: right;\">\n",
       "      <th></th>\n",
       "      <th>Actual</th>\n",
       "      <th>Predicted</th>\n",
       "    </tr>\n",
       "  </thead>\n",
       "  <tbody>\n",
       "    <tr>\n",
       "      <th>0</th>\n",
       "      <td>279.40</td>\n",
       "      <td>279.008001</td>\n",
       "    </tr>\n",
       "    <tr>\n",
       "      <th>1</th>\n",
       "      <td>274.95</td>\n",
       "      <td>275.161340</td>\n",
       "    </tr>\n",
       "    <tr>\n",
       "      <th>2</th>\n",
       "      <td>276.90</td>\n",
       "      <td>274.575958</td>\n",
       "    </tr>\n",
       "    <tr>\n",
       "      <th>3</th>\n",
       "      <td>277.90</td>\n",
       "      <td>278.308531</td>\n",
       "    </tr>\n",
       "    <tr>\n",
       "      <th>4</th>\n",
       "      <td>275.20</td>\n",
       "      <td>274.653387</td>\n",
       "    </tr>\n",
       "    <tr>\n",
       "      <th>5</th>\n",
       "      <td>266.85</td>\n",
       "      <td>268.016025</td>\n",
       "    </tr>\n",
       "    <tr>\n",
       "      <th>6</th>\n",
       "      <td>263.00</td>\n",
       "      <td>262.070679</td>\n",
       "    </tr>\n",
       "    <tr>\n",
       "      <th>7</th>\n",
       "      <td>257.45</td>\n",
       "      <td>253.495728</td>\n",
       "    </tr>\n",
       "    <tr>\n",
       "      <th>8</th>\n",
       "      <td>254.70</td>\n",
       "      <td>256.521265</td>\n",
       "    </tr>\n",
       "    <tr>\n",
       "      <th>9</th>\n",
       "      <td>271.45</td>\n",
       "      <td>269.449968</td>\n",
       "    </tr>\n",
       "    <tr>\n",
       "      <th>10</th>\n",
       "      <td>267.70</td>\n",
       "      <td>269.400036</td>\n",
       "    </tr>\n",
       "    <tr>\n",
       "      <th>11</th>\n",
       "      <td>269.40</td>\n",
       "      <td>270.314275</td>\n",
       "    </tr>\n",
       "    <tr>\n",
       "      <th>12</th>\n",
       "      <td>270.65</td>\n",
       "      <td>269.686947</td>\n",
       "    </tr>\n",
       "    <tr>\n",
       "      <th>13</th>\n",
       "      <td>274.20</td>\n",
       "      <td>274.596537</td>\n",
       "    </tr>\n",
       "    <tr>\n",
       "      <th>14</th>\n",
       "      <td>272.45</td>\n",
       "      <td>275.552106</td>\n",
       "    </tr>\n",
       "    <tr>\n",
       "      <th>15</th>\n",
       "      <td>269.55</td>\n",
       "      <td>268.179645</td>\n",
       "    </tr>\n",
       "    <tr>\n",
       "      <th>16</th>\n",
       "      <td>270.35</td>\n",
       "      <td>272.442267</td>\n",
       "    </tr>\n",
       "    <tr>\n",
       "      <th>17</th>\n",
       "      <td>271.90</td>\n",
       "      <td>269.309644</td>\n",
       "    </tr>\n",
       "    <tr>\n",
       "      <th>18</th>\n",
       "      <td>269.60</td>\n",
       "      <td>270.096444</td>\n",
       "    </tr>\n",
       "    <tr>\n",
       "      <th>19</th>\n",
       "      <td>263.50</td>\n",
       "      <td>261.125687</td>\n",
       "    </tr>\n",
       "  </tbody>\n",
       "</table>\n",
       "</div>"
      ],
      "text/plain": [
       "    Actual   Predicted\n",
       "0   279.40  279.008001\n",
       "1   274.95  275.161340\n",
       "2   276.90  274.575958\n",
       "3   277.90  278.308531\n",
       "4   275.20  274.653387\n",
       "5   266.85  268.016025\n",
       "6   263.00  262.070679\n",
       "7   257.45  253.495728\n",
       "8   254.70  256.521265\n",
       "9   271.45  269.449968\n",
       "10  267.70  269.400036\n",
       "11  269.40  270.314275\n",
       "12  270.65  269.686947\n",
       "13  274.20  274.596537\n",
       "14  272.45  275.552106\n",
       "15  269.55  268.179645\n",
       "16  270.35  272.442267\n",
       "17  271.90  269.309644\n",
       "18  269.60  270.096444\n",
       "19  263.50  261.125687"
      ]
     },
     "execution_count": 155,
     "metadata": {},
     "output_type": "execute_result"
    }
   ],
   "source": [
    "dframe2 = pd.DataFrame({'Actual':y.flatten(),'Predicted':PredictionOfAll.flatten()})\n",
    "dframe2.head(20)"
   ]
  },
  {
   "cell_type": "code",
   "execution_count": 156,
   "metadata": {},
   "outputs": [
    {
     "name": "stdout",
     "output_type": "stream",
     "text": [
      "Mean Absolute Error: 1.4629552385174764\n",
      "Mean Squred Error: 3.4446095121836016\n",
      "Root Mean Squred Error: 1.8559659243056166\n"
     ]
    }
   ],
   "source": [
    "from sklearn import metrics\n",
    "MAE = print('Mean Absolute Error:', metrics.mean_absolute_error(y,PredictionOfAll))\n",
    "MSE = print('Mean Squred Error:', metrics.mean_squared_error(y,PredictionOfAll))\n",
    "RMSE= print('Root Mean Squred Error:', np.sqrt(metrics.mean_squared_error(y,PredictionOfAll)))"
   ]
  },
  {
   "cell_type": "code",
   "execution_count": 157,
   "metadata": {},
   "outputs": [
    {
     "data": {
      "text/plain": [
       "<matplotlib.axes._subplots.AxesSubplot at 0x1be67fa0be0>"
      ]
     },
     "execution_count": 157,
     "metadata": {},
     "output_type": "execute_result"
    },
    {
     "data": {
      "image/png": "[encoded data removed]",
      "text/plain": [
       "<Figure size 1152x576 with 1 Axes>"
      ]
     },
     "metadata": {},
     "output_type": "display_data"
    }
   ],
   "source": [
    "import math\n",
    "graph = dframe2.head(20)\n",
    "graph.plot(kind='bar',figsize=(16,8))"
   ]
  },
  {
   "cell_type": "code",
   "execution_count": 167,
   "metadata": {},
   "outputs": [
    {
     "data": {
      "text/html": [
       "<div>\n",
       "<style scoped>\n",
       "    .dataframe tbody tr th:only-of-type {\n",
       "        vertical-align: middle;\n",
       "    }\n",
       "\n",
       "    .dataframe tbody tr th {\n",
       "        vertical-align: top;\n",
       "    }\n",
       "\n",
       "    .dataframe thead th {\n",
       "        text-align: right;\n",
       "    }\n",
       "</style>\n",
       "<table border=\"1\" class=\"dataframe\">\n",
       "  <thead>\n",
       "    <tr style=\"text-align: right;\">\n",
       "      <th></th>\n",
       "      <th>Index</th>\n",
       "      <th>Open</th>\n",
       "      <th>High</th>\n",
       "      <th>Low</th>\n",
       "      <th>Quantity</th>\n",
       "    </tr>\n",
       "  </thead>\n",
       "  <tbody>\n",
       "    <tr>\n",
       "      <th>0</th>\n",
       "      <td>0</td>\n",
       "      <td>281.85</td>\n",
       "      <td>283.9</td>\n",
       "      <td>277.75</td>\n",
       "      <td>23531791</td>\n",
       "    </tr>\n",
       "  </tbody>\n",
       "</table>\n",
       "</div>"
      ],
      "text/plain": [
       "   Index    Open   High     Low  Quantity\n",
       "0      0  281.85  283.9  277.75  23531791"
      ]
     },
     "execution_count": 167,
     "metadata": {},
     "output_type": "execute_result"
    }
   ],
   "source": [
    "index=[0]\n",
    "dframe3 = pd.DataFrame({'Index':index,'Open':281.85,'High':283.90,'Low':277.75,'Quantity':23531791})\n",
    "dframe3"
   ]
  },
  {
   "cell_type": "code",
   "execution_count": 168,
   "metadata": {},
   "outputs": [],
   "source": [
    "x_fore = dframe3[['Open','High','Low','Quantity']].values\n",
    "\n"
   ]
  },
  {
   "cell_type": "code",
   "execution_count": 169,
   "metadata": {},
   "outputs": [
    {
     "data": {
      "text/plain": [
       "array([[280.65766657]])"
      ]
     },
     "execution_count": 169,
     "metadata": {},
     "output_type": "execute_result"
    }
   ],
   "source": [
    "LinearRegression.predict(x_fore)"
   ]
  },
  {
   "cell_type": "code",
   "execution_count": null,
   "metadata": {},
   "outputs": [],
   "source": [
    "data = df.filter(['Close'])\n",
    "Dates = df.filter(['Date'])\n",
    "Adj_close = df.filter(['Adj Close'])\n",
    "valid = data[60:]\n",
    "valid['Predictions'] = predictions\n",
    "valid['Date'] = Dates\n",
    "valid['Adj Close'] = Adj_close\n",
    "\n",
    "#Visualize the data\n",
    "plt.figure(figsize=(16,8))\n",
    "plt.title('Model')\n",
    "plt.xlabel('Date', fontsize=18)\n",
    "plt.ylabel('Close Price USD ($)', fontsize=18)\n",
    "plt.plot(data)\n",
    "plt.plot(valid[['Predictions']])\n",
    "plt.legend(['Val', 'Predictions'], loc='lower right')\n",
    "plt.show()"
   ]
  }
 ],
 "metadata": {
  "kernelspec": {
   "display_name": "Python 3",
   "language": "python",
   "name": "python3"
  },
  "language_info": {
   "codemirror_mode": {
    "name": "ipython",
    "version": 3
   },
   "file_extension": ".py",
   "mimetype": "text/x-python",
   "name": "python",
   "nbconvert_exporter": "python",
   "pygments_lexer": "ipython3",
   "version": "3.8.3"
  }
 },
 "nbformat": 4,
 "nbformat_minor": 4
}
