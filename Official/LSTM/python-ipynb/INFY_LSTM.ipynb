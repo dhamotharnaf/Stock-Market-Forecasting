{
 "cells": [
  {
   "cell_type": "code",
   "execution_count": 1,
   "metadata": {},
   "outputs": [],
   "source": [
    "import math\n",
    "import pandas_datareader as web\n",
    "import numpy as np\n",
    "import pandas as pd\n",
    "from sklearn.preprocessing import MinMaxScaler\n",
    "from sklearn.metrics import mean_absolute_error\n",
    "from keras.models import Sequential\n",
    "from keras.layers import Dense, LSTM\n",
    "import matplotlib.pyplot as plt\n",
    "plt.style.use('fivethirtyeight')"
   ]
  },
  {
   "cell_type": "code",
   "execution_count": 2,
   "metadata": {},
   "outputs": [],
   "source": [
    "df = pd.read_csv('INTC_23112020.csv')"
   ]
  },
  {
   "cell_type": "code",
   "execution_count": 3,
   "metadata": {},
   "outputs": [
    {
     "data": {
      "text/html": [
       "<div>\n",
       "<style scoped>\n",
       "    .dataframe tbody tr th:only-of-type {\n",
       "        vertical-align: middle;\n",
       "    }\n",
       "\n",
       "    .dataframe tbody tr th {\n",
       "        vertical-align: top;\n",
       "    }\n",
       "\n",
       "    .dataframe thead th {\n",
       "        text-align: right;\n",
       "    }\n",
       "</style>\n",
       "<table border=\"1\" class=\"dataframe\">\n",
       "  <thead>\n",
       "    <tr style=\"text-align: right;\">\n",
       "      <th></th>\n",
       "      <th>Date</th>\n",
       "      <th>Open</th>\n",
       "      <th>High</th>\n",
       "      <th>Low</th>\n",
       "      <th>Close</th>\n",
       "      <th>Adj Close</th>\n",
       "      <th>Volume</th>\n",
       "    </tr>\n",
       "  </thead>\n",
       "  <tbody>\n",
       "    <tr>\n",
       "      <th>0</th>\n",
       "      <td>1980-03-17</td>\n",
       "      <td>0.325521</td>\n",
       "      <td>0.330729</td>\n",
       "      <td>0.325521</td>\n",
       "      <td>0.325521</td>\n",
       "      <td>0.200766</td>\n",
       "      <td>10924800</td>\n",
       "    </tr>\n",
       "    <tr>\n",
       "      <th>1</th>\n",
       "      <td>1980-03-18</td>\n",
       "      <td>0.325521</td>\n",
       "      <td>0.328125</td>\n",
       "      <td>0.322917</td>\n",
       "      <td>0.322917</td>\n",
       "      <td>0.199160</td>\n",
       "      <td>17068800</td>\n",
       "    </tr>\n",
       "    <tr>\n",
       "      <th>2</th>\n",
       "      <td>1980-03-19</td>\n",
       "      <td>0.330729</td>\n",
       "      <td>0.335938</td>\n",
       "      <td>0.330729</td>\n",
       "      <td>0.330729</td>\n",
       "      <td>0.203978</td>\n",
       "      <td>18508800</td>\n",
       "    </tr>\n",
       "    <tr>\n",
       "      <th>3</th>\n",
       "      <td>1980-03-20</td>\n",
       "      <td>0.330729</td>\n",
       "      <td>0.334635</td>\n",
       "      <td>0.329427</td>\n",
       "      <td>0.329427</td>\n",
       "      <td>0.203175</td>\n",
       "      <td>11174400</td>\n",
       "    </tr>\n",
       "    <tr>\n",
       "      <th>4</th>\n",
       "      <td>1980-03-21</td>\n",
       "      <td>0.322917</td>\n",
       "      <td>0.322917</td>\n",
       "      <td>0.317708</td>\n",
       "      <td>0.317708</td>\n",
       "      <td>0.195948</td>\n",
       "      <td>12172800</td>\n",
       "    </tr>\n",
       "    <tr>\n",
       "      <th>...</th>\n",
       "      <td>...</td>\n",
       "      <td>...</td>\n",
       "      <td>...</td>\n",
       "      <td>...</td>\n",
       "      <td>...</td>\n",
       "      <td>...</td>\n",
       "      <td>...</td>\n",
       "    </tr>\n",
       "    <tr>\n",
       "      <th>10256</th>\n",
       "      <td>2020-11-16</td>\n",
       "      <td>46.040001</td>\n",
       "      <td>46.750000</td>\n",
       "      <td>45.790001</td>\n",
       "      <td>46.189999</td>\n",
       "      <td>46.189999</td>\n",
       "      <td>36306300</td>\n",
       "    </tr>\n",
       "    <tr>\n",
       "      <th>10257</th>\n",
       "      <td>2020-11-17</td>\n",
       "      <td>45.750000</td>\n",
       "      <td>46.119999</td>\n",
       "      <td>45.410000</td>\n",
       "      <td>45.529999</td>\n",
       "      <td>45.529999</td>\n",
       "      <td>31118000</td>\n",
       "    </tr>\n",
       "    <tr>\n",
       "      <th>10258</th>\n",
       "      <td>2020-11-18</td>\n",
       "      <td>45.549999</td>\n",
       "      <td>45.689999</td>\n",
       "      <td>45.040001</td>\n",
       "      <td>45.060001</td>\n",
       "      <td>45.060001</td>\n",
       "      <td>32817900</td>\n",
       "    </tr>\n",
       "    <tr>\n",
       "      <th>10259</th>\n",
       "      <td>2020-11-19</td>\n",
       "      <td>44.919998</td>\n",
       "      <td>45.669998</td>\n",
       "      <td>44.700001</td>\n",
       "      <td>45.619999</td>\n",
       "      <td>45.619999</td>\n",
       "      <td>29469100</td>\n",
       "    </tr>\n",
       "    <tr>\n",
       "      <th>10260</th>\n",
       "      <td>2020-11-20</td>\n",
       "      <td>45.660000</td>\n",
       "      <td>45.880001</td>\n",
       "      <td>45.330002</td>\n",
       "      <td>45.389999</td>\n",
       "      <td>45.389999</td>\n",
       "      <td>24183700</td>\n",
       "    </tr>\n",
       "  </tbody>\n",
       "</table>\n",
       "<p>10261 rows × 7 columns</p>\n",
       "</div>"
      ],
      "text/plain": [
       "             Date       Open       High        Low      Close  Adj Close  \\\n",
       "0      1980-03-17   0.325521   0.330729   0.325521   0.325521   0.200766   \n",
       "1      1980-03-18   0.325521   0.328125   0.322917   0.322917   0.199160   \n",
       "2      1980-03-19   0.330729   0.335938   0.330729   0.330729   0.203978   \n",
       "3      1980-03-20   0.330729   0.334635   0.329427   0.329427   0.203175   \n",
       "4      1980-03-21   0.322917   0.322917   0.317708   0.317708   0.195948   \n",
       "...           ...        ...        ...        ...        ...        ...   \n",
       "10256  2020-11-16  46.040001  46.750000  45.790001  46.189999  46.189999   \n",
       "10257  2020-11-17  45.750000  46.119999  45.410000  45.529999  45.529999   \n",
       "10258  2020-11-18  45.549999  45.689999  45.040001  45.060001  45.060001   \n",
       "10259  2020-11-19  44.919998  45.669998  44.700001  45.619999  45.619999   \n",
       "10260  2020-11-20  45.660000  45.880001  45.330002  45.389999  45.389999   \n",
       "\n",
       "         Volume  \n",
       "0      10924800  \n",
       "1      17068800  \n",
       "2      18508800  \n",
       "3      11174400  \n",
       "4      12172800  \n",
       "...         ...  \n",
       "10256  36306300  \n",
       "10257  31118000  \n",
       "10258  32817900  \n",
       "10259  29469100  \n",
       "10260  24183700  \n",
       "\n",
       "[10261 rows x 7 columns]"
      ]
     },
     "execution_count": 3,
     "metadata": {},
     "output_type": "execute_result"
    }
   ],
   "source": [
    "df"
   ]
  },
  {
   "cell_type": "code",
   "execution_count": 4,
   "metadata": {},
   "outputs": [
    {
     "data": {
      "text/plain": [
       "(10261, 7)"
      ]
     },
     "execution_count": 4,
     "metadata": {},
     "output_type": "execute_result"
    }
   ],
   "source": [
    "df.shape"
   ]
  },
  {
   "cell_type": "code",
   "execution_count": 5,
   "metadata": {},
   "outputs": [
    {
     "data": {
      "image/png": "[encoded data removed]",
      "text/plain": [
       "<Figure size 1152x576 with 1 Axes>"
      ]
     },
     "metadata": {},
     "output_type": "display_data"
    }
   ],
   "source": [
    "#Visualize the closing price history\n",
    "plt.figure(figsize=(16,8))\n",
    "plt.title('Close Price History')\n",
    "plt.plot(df['Close'])\n",
    "plt.xlabel('Date',fontsize=18)\n",
    "plt.ylabel('Close Price USD ($)',fontsize=18)\n",
    "plt.show()"
   ]
  },
  {
   "cell_type": "code",
   "execution_count": 6,
   "metadata": {},
   "outputs": [
    {
     "data": {
      "text/plain": [
       "8209"
      ]
     },
     "execution_count": 6,
     "metadata": {},
     "output_type": "execute_result"
    }
   ],
   "source": [
    "#Create a new dataframe with only the 'Close' column\n",
    "data = df.filter(['Close'])\n",
    "\n",
    "#Converting the dataframe to a numpy array\n",
    "dataset = data.values\n",
    "\n",
    "#number of rows to train the data\n",
    "training_data_len = math.ceil( len(dataset) *.8)\n",
    "training_data_len\n",
    "\n"
   ]
  },
  {
   "cell_type": "code",
   "execution_count": 7,
   "metadata": {},
   "outputs": [
    {
     "data": {
      "text/plain": [
       "array([[0.001465  ],\n",
       "       [0.00143012],\n",
       "       [0.00153475],\n",
       "       ...,\n",
       "       [0.60065019],\n",
       "       [0.60815095],\n",
       "       [0.60507027]])"
      ]
     },
     "execution_count": 7,
     "metadata": {},
     "output_type": "execute_result"
    }
   ],
   "source": [
    "#Scale the all of the data to be values between 0 and 1 \n",
    "#minmax scaling brings the value to the specufied range\n",
    "scaler = MinMaxScaler(feature_range=(0, 1)) \n",
    "\n",
    "#fit and transform the data\n",
    "scaled_data = scaler.fit_transform(dataset)\n",
    "scaled_data"
   ]
  },
  {
   "cell_type": "code",
   "execution_count": 8,
   "metadata": {},
   "outputs": [
    {
     "data": {
      "text/plain": [
       "array([[0.001465  ],\n",
       "       [0.00143012],\n",
       "       [0.00153475],\n",
       "       ...,\n",
       "       [0.30249397],\n",
       "       [0.29901149],\n",
       "       [0.30048484]])"
      ]
     },
     "execution_count": 8,
     "metadata": {},
     "output_type": "execute_result"
    }
   ],
   "source": [
    "#Create the scaled training data set \n",
    "train_data = scaled_data[0:training_data_len  , : ]\n",
    "#Split the data into x_train and y_train data sets\n",
    "x_train=[]\n",
    "y_train = []\n",
    "train_data"
   ]
  },
  {
   "cell_type": "code",
   "execution_count": 9,
   "metadata": {},
   "outputs": [
    {
     "name": "stdout",
     "output_type": "stream",
     "text": [
      "[array([0.001465  , 0.00143012, 0.00153475, 0.00151732, 0.00136035,\n",
      "       0.00127315, 0.00129059, 0.00125571, 0.00111618, 0.00127315,\n",
      "       0.00141268, 0.00143012, 0.001465  , 0.00137779, 0.00127315,\n",
      "       0.00129059, 0.00120339, 0.00118595, 0.00118595, 0.00122083,\n",
      "       0.0011685 , 0.00101155, 0.00094178, 0.00099411, 0.00095922,\n",
      "       0.00113362, 0.00137779, 0.00139524, 0.00132547, 0.00129059,\n",
      "       0.00132547, 0.00137779, 0.00139524, 0.001465  , 0.00151732,\n",
      "       0.00149988, 0.00149988, 0.00144756, 0.00149988, 0.00148244,\n",
      "       0.00156963, 0.0016394 , 0.00167428, 0.0017266 , 0.00174404,\n",
      "       0.00169172, 0.00158707, 0.00153475, 0.00169172, 0.00167428,\n",
      "       0.00177892, 0.00177892, 0.00184869, 0.00186613, 0.00174404,\n",
      "       0.00181381, 0.00181381, 0.00177892, 0.00174404, 0.00179636])]\n",
      "[0.0018486889713040596]\n",
      "\n"
     ]
    }
   ],
   "source": [
    "for i in range(60,len(train_data)):\n",
    "    x_train.append(train_data[i-60:i,0])\n",
    "    y_train.append(train_data[i,0])\n",
    "    if i<=60:\n",
    "      print(x_train)\n",
    "      print(y_train)\n",
    "      print()"
   ]
  },
  {
   "cell_type": "code",
   "execution_count": 10,
   "metadata": {},
   "outputs": [
    {
     "data": {
      "text/plain": [
       "(8149, 60)"
      ]
     },
     "execution_count": 10,
     "metadata": {},
     "output_type": "execute_result"
    }
   ],
   "source": [
    "#convert x_train and y_train to numpy arrays\n",
    "x_train, y_train = np.array(x_train), np.array(y_train)\n",
    "x_train.shape"
   ]
  },
  {
   "cell_type": "code",
   "execution_count": 11,
   "metadata": {},
   "outputs": [
    {
     "data": {
      "text/plain": [
       "(8149, 60, 1)"
      ]
     },
     "execution_count": 11,
     "metadata": {},
     "output_type": "execute_result"
    }
   ],
   "source": [
    "#Reshape the data\n",
    "#2d into 3d\n",
    "#Samples,Timesteps, Features\n",
    "x_train = np.reshape(x_train, (x_train.shape[0],x_train.shape[1],1))\n",
    "x_train.shape"
   ]
  },
  {
   "cell_type": "code",
   "execution_count": 12,
   "metadata": {},
   "outputs": [],
   "source": [
    "#Build the LSTM network model\n",
    "model = Sequential()\n",
    "model.add(LSTM(units=50, return_sequences=True,input_shape=(x_train.shape[1],1)))\n",
    "model.add(LSTM(units=50, return_sequences=False))\n",
    "model.add(Dense(units=25))\n",
    "model.add(Dense(units=1))"
   ]
  },
  {
   "cell_type": "code",
   "execution_count": 13,
   "metadata": {},
   "outputs": [],
   "source": [
    "#Compile the model\n",
    "model.compile(optimizer='adam', loss='mean_squared_error')"
   ]
  },
  {
   "cell_type": "code",
   "execution_count": null,
   "metadata": {},
   "outputs": [],
   "source": [
    "model.fit(x_train, y_train, batch_size=1, epochs=40)"
   ]
  },
  {
   "cell_type": "code",
   "execution_count": null,
   "metadata": {},
   "outputs": [],
   "source": [
    "#Creating Test data set\n",
    "#new array containing values from 1551 to 2020\n",
    "test_data = scaled_data[training_data_len - 60: , : ]"
   ]
  },
  {
   "cell_type": "code",
   "execution_count": 20,
   "metadata": {},
   "outputs": [],
   "source": [
    "#Create the x_test and y_test data sets\n",
    "x_test = []\n",
    "y_test =  dataset[training_data_len : , : ]  \n",
    "for i in range(60,len(test_data)):\n",
    "    x_test.append(test_data[i-60:i,0])\n"
   ]
  },
  {
   "cell_type": "code",
   "execution_count": 21,
   "metadata": {},
   "outputs": [],
   "source": [
    "#Convert x_test to a numpy array \n",
    "x_test = np.array(x_test)"
   ]
  },
  {
   "cell_type": "code",
   "execution_count": 22,
   "metadata": {},
   "outputs": [],
   "source": [
    "#Reshape the data into the shape accepted by the LSTM\n",
    "x_test = np.reshape(x_test, (x_test.shape[0],x_test.shape[1],1))"
   ]
  },
  {
   "cell_type": "code",
   "execution_count": 23,
   "metadata": {},
   "outputs": [],
   "source": [
    "#Getting the models predicted price values\n",
    "predictions = model.predict(x_test) \n",
    "predictions = scaler.inverse_transform(predictions)"
   ]
  },
  {
   "cell_type": "code",
   "execution_count": 24,
   "metadata": {},
   "outputs": [
    {
     "name": "stderr",
     "output_type": "stream",
     "text": [
      "<ipython-input-24-07a7af3d1b6e>:6: SettingWithCopyWarning: \n",
      "A value is trying to be set on a copy of a slice from a DataFrame.\n",
      "Try using .loc[row_indexer,col_indexer] = value instead\n",
      "\n",
      "See the caveats in the documentation: https://pandas.pydata.org/pandas-docs/stable/user_guide/indexing.html#returning-a-view-versus-a-copy\n",
      "  valid['Predictions'] = predictions\n",
      "<ipython-input-24-07a7af3d1b6e>:7: SettingWithCopyWarning: \n",
      "A value is trying to be set on a copy of a slice from a DataFrame.\n",
      "Try using .loc[row_indexer,col_indexer] = value instead\n",
      "\n",
      "See the caveats in the documentation: https://pandas.pydata.org/pandas-docs/stable/user_guide/indexing.html#returning-a-view-versus-a-copy\n",
      "  valid['Date'] = Dates\n",
      "<ipython-input-24-07a7af3d1b6e>:8: SettingWithCopyWarning: \n",
      "A value is trying to be set on a copy of a slice from a DataFrame.\n",
      "Try using .loc[row_indexer,col_indexer] = value instead\n",
      "\n",
      "See the caveats in the documentation: https://pandas.pydata.org/pandas-docs/stable/user_guide/indexing.html#returning-a-view-versus-a-copy\n",
      "  valid['Adj Close'] = Adj_close\n"
     ]
    },
    {
     "data": {
      "image/png": "[encoded data removed]",
      "text/plain": [
       "<Figure size 1152x576 with 1 Axes>"
      ]
     },
     "metadata": {},
     "output_type": "display_data"
    }
   ],
   "source": [
    "#Plot the data for the graph\n",
    "Dates = df.filter(['Date'])\n",
    "Adj_close = df.filter(['Adj Close'])\n",
    "train = data[:training_data_len]\n",
    "valid = data[training_data_len:]\n",
    "valid['Predictions'] = predictions\n",
    "valid['Date'] = Dates\n",
    "valid['Adj Close'] = Adj_close\n",
    "\n",
    "\n",
    "#Visualize the data\n",
    "plt.figure(figsize=(16,8))\n",
    "plt.title('Model')\n",
    "plt.xlabel('Date', fontsize=18)\n",
    "plt.ylabel('Close Price USD ($)', fontsize=18)\n",
    "plt.plot(train['Close'])\n",
    "plt.plot(valid[['Close', 'Predictions']])\n",
    "plt.legend(['Train', 'Val', 'Predictions'], loc='lower right')\n",
    "plt.show()"
   ]
  },
  {
   "cell_type": "code",
   "execution_count": 25,
   "metadata": {},
   "outputs": [
    {
     "data": {
      "text/html": [
       "<div>\n",
       "<style scoped>\n",
       "    .dataframe tbody tr th:only-of-type {\n",
       "        vertical-align: middle;\n",
       "    }\n",
       "\n",
       "    .dataframe tbody tr th {\n",
       "        vertical-align: top;\n",
       "    }\n",
       "\n",
       "    .dataframe thead th {\n",
       "        text-align: right;\n",
       "    }\n",
       "</style>\n",
       "<table border=\"1\" class=\"dataframe\">\n",
       "  <thead>\n",
       "    <tr style=\"text-align: right;\">\n",
       "      <th></th>\n",
       "      <th>Close</th>\n",
       "      <th>Predictions</th>\n",
       "      <th>Date</th>\n",
       "      <th>Adj Close</th>\n",
       "    </tr>\n",
       "  </thead>\n",
       "  <tbody>\n",
       "    <tr>\n",
       "      <th>8209</th>\n",
       "      <td>23.090000</td>\n",
       "      <td>0.020412</td>\n",
       "      <td>2012-09-27</td>\n",
       "      <td>18.078850</td>\n",
       "    </tr>\n",
       "    <tr>\n",
       "      <th>8210</th>\n",
       "      <td>22.660000</td>\n",
       "      <td>0.022424</td>\n",
       "      <td>2012-09-28</td>\n",
       "      <td>17.742170</td>\n",
       "    </tr>\n",
       "    <tr>\n",
       "      <th>8211</th>\n",
       "      <td>22.760000</td>\n",
       "      <td>0.024251</td>\n",
       "      <td>2012-10-01</td>\n",
       "      <td>17.820469</td>\n",
       "    </tr>\n",
       "    <tr>\n",
       "      <th>8212</th>\n",
       "      <td>22.840000</td>\n",
       "      <td>0.026364</td>\n",
       "      <td>2012-10-02</td>\n",
       "      <td>17.883108</td>\n",
       "    </tr>\n",
       "    <tr>\n",
       "      <th>8213</th>\n",
       "      <td>22.549999</td>\n",
       "      <td>0.028815</td>\n",
       "      <td>2012-10-03</td>\n",
       "      <td>17.656048</td>\n",
       "    </tr>\n",
       "    <tr>\n",
       "      <th>...</th>\n",
       "      <td>...</td>\n",
       "      <td>...</td>\n",
       "      <td>...</td>\n",
       "      <td>...</td>\n",
       "    </tr>\n",
       "    <tr>\n",
       "      <th>10256</th>\n",
       "      <td>46.189999</td>\n",
       "      <td>-0.094023</td>\n",
       "      <td>2020-11-16</td>\n",
       "      <td>46.189999</td>\n",
       "    </tr>\n",
       "    <tr>\n",
       "      <th>10257</th>\n",
       "      <td>45.529999</td>\n",
       "      <td>-0.082197</td>\n",
       "      <td>2020-11-17</td>\n",
       "      <td>45.529999</td>\n",
       "    </tr>\n",
       "    <tr>\n",
       "      <th>10258</th>\n",
       "      <td>45.060001</td>\n",
       "      <td>-0.072173</td>\n",
       "      <td>2020-11-18</td>\n",
       "      <td>45.060001</td>\n",
       "    </tr>\n",
       "    <tr>\n",
       "      <th>10259</th>\n",
       "      <td>45.619999</td>\n",
       "      <td>-0.064242</td>\n",
       "      <td>2020-11-19</td>\n",
       "      <td>45.619999</td>\n",
       "    </tr>\n",
       "    <tr>\n",
       "      <th>10260</th>\n",
       "      <td>45.389999</td>\n",
       "      <td>-0.056388</td>\n",
       "      <td>2020-11-20</td>\n",
       "      <td>45.389999</td>\n",
       "    </tr>\n",
       "  </tbody>\n",
       "</table>\n",
       "<p>2052 rows × 4 columns</p>\n",
       "</div>"
      ],
      "text/plain": [
       "           Close  Predictions        Date  Adj Close\n",
       "8209   23.090000     0.020412  2012-09-27  18.078850\n",
       "8210   22.660000     0.022424  2012-09-28  17.742170\n",
       "8211   22.760000     0.024251  2012-10-01  17.820469\n",
       "8212   22.840000     0.026364  2012-10-02  17.883108\n",
       "8213   22.549999     0.028815  2012-10-03  17.656048\n",
       "...          ...          ...         ...        ...\n",
       "10256  46.189999    -0.094023  2020-11-16  46.189999\n",
       "10257  45.529999    -0.082197  2020-11-17  45.529999\n",
       "10258  45.060001    -0.072173  2020-11-18  45.060001\n",
       "10259  45.619999    -0.064242  2020-11-19  45.619999\n",
       "10260  45.389999    -0.056388  2020-11-20  45.389999\n",
       "\n",
       "[2052 rows x 4 columns]"
      ]
     },
     "execution_count": 25,
     "metadata": {},
     "output_type": "execute_result"
    }
   ],
   "source": [
    "valid"
   ]
  },
  {
   "cell_type": "code",
   "execution_count": 27,
   "metadata": {},
   "outputs": [
    {
     "ename": "NameError",
     "evalue": "name 'dataframe' is not defined",
     "output_type": "error",
     "traceback": [
      "\u001b[1;31m---------------------------------------------------------------------------\u001b[0m",
      "\u001b[1;31mNameError\u001b[0m                                 Traceback (most recent call last)",
      "\u001b[1;32m<ipython-input-27-c29de064f2bd>\u001b[0m in \u001b[0;36m<module>\u001b[1;34m\u001b[0m\n\u001b[1;32m----> 1\u001b[1;33m \u001b[0mdataframe\u001b[0m\u001b[1;33m.\u001b[0m\u001b[0mreset_index\u001b[0m\u001b[1;33m(\u001b[0m\u001b[0mdrop\u001b[0m\u001b[1;33m=\u001b[0m\u001b[1;32mTrue\u001b[0m\u001b[1;33m)\u001b[0m\u001b[1;33m\u001b[0m\u001b[1;33m\u001b[0m\u001b[0m\n\u001b[0m\u001b[0;32m      2\u001b[0m \u001b[0mdataframe\u001b[0m \u001b[1;33m=\u001b[0m \u001b[0mvalid\u001b[0m\u001b[1;33m.\u001b[0m\u001b[0mreindex\u001b[0m\u001b[1;33m(\u001b[0m\u001b[1;33m[\u001b[0m\u001b[1;34m'Date'\u001b[0m\u001b[1;33m,\u001b[0m\u001b[1;34m'Close'\u001b[0m\u001b[1;33m,\u001b[0m\u001b[1;34m'Adj Close'\u001b[0m\u001b[1;33m,\u001b[0m\u001b[1;34m'Predictions'\u001b[0m\u001b[1;33m]\u001b[0m\u001b[1;33m,\u001b[0m\u001b[0maxis\u001b[0m\u001b[1;33m=\u001b[0m\u001b[1;36m1\u001b[0m\u001b[1;33m)\u001b[0m\u001b[1;33m\u001b[0m\u001b[1;33m\u001b[0m\u001b[0m\n\u001b[0;32m      3\u001b[0m \u001b[0mdataframe\u001b[0m\u001b[1;33m\u001b[0m\u001b[1;33m\u001b[0m\u001b[0m\n",
      "\u001b[1;31mNameError\u001b[0m: name 'dataframe' is not defined"
     ]
    }
   ],
   "source": [
    "dataframe.reset_index(drop=True)\n",
    "dataframe = valid.reindex(['Date','Close','Adj Close','Predictions'],axis=1)\n",
    "dataframe"
   ]
  },
  {
   "cell_type": "code",
   "execution_count": 117,
   "metadata": {},
   "outputs": [
    {
     "data": {
      "text/html": [
       "<div>\n",
       "<style scoped>\n",
       "    .dataframe tbody tr th:only-of-type {\n",
       "        vertical-align: middle;\n",
       "    }\n",
       "\n",
       "    .dataframe tbody tr th {\n",
       "        vertical-align: top;\n",
       "    }\n",
       "\n",
       "    .dataframe thead th {\n",
       "        text-align: right;\n",
       "    }\n",
       "</style>\n",
       "<table border=\"1\" class=\"dataframe\">\n",
       "  <thead>\n",
       "    <tr style=\"text-align: right;\">\n",
       "      <th></th>\n",
       "      <th>Unnamed: 0</th>\n",
       "      <th>Date</th>\n",
       "      <th>Close</th>\n",
       "      <th>Adj Close</th>\n",
       "      <th>Predictions</th>\n",
       "    </tr>\n",
       "  </thead>\n",
       "  <tbody>\n",
       "    <tr>\n",
       "      <th>0</th>\n",
       "      <td>8209</td>\n",
       "      <td>2012-09-27</td>\n",
       "      <td>23.090000</td>\n",
       "      <td>18.078850</td>\n",
       "      <td>23.161272</td>\n",
       "    </tr>\n",
       "    <tr>\n",
       "      <th>1</th>\n",
       "      <td>8210</td>\n",
       "      <td>2012-09-28</td>\n",
       "      <td>22.660000</td>\n",
       "      <td>17.742170</td>\n",
       "      <td>23.595210</td>\n",
       "    </tr>\n",
       "    <tr>\n",
       "      <th>2</th>\n",
       "      <td>8211</td>\n",
       "      <td>2012-10-01</td>\n",
       "      <td>22.760000</td>\n",
       "      <td>17.820469</td>\n",
       "      <td>23.164984</td>\n",
       "    </tr>\n",
       "    <tr>\n",
       "      <th>3</th>\n",
       "      <td>8212</td>\n",
       "      <td>2012-10-02</td>\n",
       "      <td>22.840000</td>\n",
       "      <td>17.883108</td>\n",
       "      <td>23.275002</td>\n",
       "    </tr>\n",
       "    <tr>\n",
       "      <th>4</th>\n",
       "      <td>8213</td>\n",
       "      <td>2012-10-03</td>\n",
       "      <td>22.549999</td>\n",
       "      <td>17.656048</td>\n",
       "      <td>23.365149</td>\n",
       "    </tr>\n",
       "    <tr>\n",
       "      <th>...</th>\n",
       "      <td>...</td>\n",
       "      <td>...</td>\n",
       "      <td>...</td>\n",
       "      <td>...</td>\n",
       "      <td>...</td>\n",
       "    </tr>\n",
       "    <tr>\n",
       "      <th>2047</th>\n",
       "      <td>10256</td>\n",
       "      <td>2020-11-16</td>\n",
       "      <td>46.189999</td>\n",
       "      <td>46.189999</td>\n",
       "      <td>46.547638</td>\n",
       "    </tr>\n",
       "    <tr>\n",
       "      <th>2048</th>\n",
       "      <td>10257</td>\n",
       "      <td>2020-11-17</td>\n",
       "      <td>45.529999</td>\n",
       "      <td>45.529999</td>\n",
       "      <td>47.607136</td>\n",
       "    </tr>\n",
       "    <tr>\n",
       "      <th>2049</th>\n",
       "      <td>10258</td>\n",
       "      <td>2020-11-18</td>\n",
       "      <td>45.060001</td>\n",
       "      <td>45.060001</td>\n",
       "      <td>46.823578</td>\n",
       "    </tr>\n",
       "    <tr>\n",
       "      <th>2050</th>\n",
       "      <td>10259</td>\n",
       "      <td>2020-11-19</td>\n",
       "      <td>45.619999</td>\n",
       "      <td>45.619999</td>\n",
       "      <td>46.249126</td>\n",
       "    </tr>\n",
       "    <tr>\n",
       "      <th>2051</th>\n",
       "      <td>10260</td>\n",
       "      <td>2020-11-20</td>\n",
       "      <td>45.389999</td>\n",
       "      <td>45.389999</td>\n",
       "      <td>46.957787</td>\n",
       "    </tr>\n",
       "  </tbody>\n",
       "</table>\n",
       "<p>2052 rows × 5 columns</p>\n",
       "</div>"
      ],
      "text/plain": [
       "      Unnamed: 0        Date      Close  Adj Close  Predictions\n",
       "0           8209  2012-09-27  23.090000  18.078850    23.161272\n",
       "1           8210  2012-09-28  22.660000  17.742170    23.595210\n",
       "2           8211  2012-10-01  22.760000  17.820469    23.164984\n",
       "3           8212  2012-10-02  22.840000  17.883108    23.275002\n",
       "4           8213  2012-10-03  22.549999  17.656048    23.365149\n",
       "...          ...         ...        ...        ...          ...\n",
       "2047       10256  2020-11-16  46.189999  46.189999    46.547638\n",
       "2048       10257  2020-11-17  45.529999  45.529999    47.607136\n",
       "2049       10258  2020-11-18  45.060001  45.060001    46.823578\n",
       "2050       10259  2020-11-19  45.619999  45.619999    46.249126\n",
       "2051       10260  2020-11-20  45.389999  45.389999    46.957787\n",
       "\n",
       "[2052 rows x 5 columns]"
      ]
     },
     "execution_count": 117,
     "metadata": {},
     "output_type": "execute_result"
    }
   ],
   "source": [
    "dataframe.to_csv('sep4.csv')\n",
    "data_of_prediction = pd.read_csv('sep4.csv')\n",
    "data_of_prediction"
   ]
  },
  {
   "cell_type": "code",
   "execution_count": 26,
   "metadata": {},
   "outputs": [
    {
     "name": "stdout",
     "output_type": "stream",
     "text": [
      "[[46.73033]]\n"
     ]
    }
   ],
   "source": [
    "\n",
    "infosys_quote = pd.read_csv('INTC_23112020.csv')\n",
    "#Create a new dataframe\n",
    "new_df = infosys_quote.filter(['Close'])\n",
    "\n",
    "#Getting the last 60 day closing price \n",
    "last_60_days = new_df[-60:].values\n",
    "\n",
    "#Scale the data to be values between 0 and 1\n",
    "last_60_days_scaled = scaler.transform(last_60_days)\n",
    "\n",
    "#Create an empty list\n",
    "X_test = []\n",
    "\n",
    "#Append the past 60 days\n",
    "X_test.append(last_60_days_scaled)\n",
    "\n",
    "#Convert the X_test data set to a numpy array\n",
    "X_test = np.array(X_test)\n",
    "\n",
    "#Reshape the data\n",
    "X_test = np.reshape(X_test, (X_test.shape[0], X_test.shape[1], 1))\n",
    "\n",
    "#Get the predicted scaled price\n",
    "pred_price = model.predict(X_test)\n",
    "\n",
    "#undo the scaling \n",
    "pred_price = scaler.inverse_transform(pred_price)\n",
    "print(pred_price)\n"
   ]
  },
  {
   "cell_type": "code",
   "execution_count": 126,
   "metadata": {},
   "outputs": [
    {
     "name": "stdout",
     "output_type": "stream",
     "text": [
      "RMSE--> 1.0\n",
      "MAE--> 1.0\n",
      "EVS--> 1.0\n",
      "RSQ--> 1.0\n",
      "MSE--> 2.0\n"
     ]
    }
   ],
   "source": [
    "#Calculate/Get the value of RMSE\n",
    "RMSE =round(np.sqrt(np.mean(((predictions - y_test)**2))))\n",
    "print(\"RMSE-->\",RMSE)\n",
    "MAE = round(sklearn.metrics.mean_absolute_error(y_test, predictions))\n",
    "print(\"MAE-->\",MAE)\n",
    "EVS = round(sklearn.metrics.explained_variance_score(y_test, predictions))\n",
    "print(\"EVS-->\",EVS)\n",
    "RSQ = round(sklearn.metrics.r2_score(y_test, predictions))\n",
    "print(\"RSQ-->\",RSQ)\n",
    "MSE = round(sklearn.metrics.mean_squared_error(y_test, predictions))\n",
    "print(\"MSE-->\",MSE)\n",
    "\n",
    "\n",
    "\n",
    "\n"
   ]
  },
  {
   "cell_type": "code",
   "execution_count": null,
   "metadata": {},
   "outputs": [],
   "source": []
  }
 ],
 "metadata": {
  "kernelspec": {
   "display_name": "Python 3",
   "language": "python",
   "name": "python3"
  },
  "language_info": {
   "codemirror_mode": {
    "name": "ipython",
    "version": 3
   },
   "file_extension": ".py",
   "mimetype": "text/x-python",
   "name": "python",
   "nbconvert_exporter": "python",
   "pygments_lexer": "ipython3",
   "version": "3.8.3"
  }
 },
 "nbformat": 4,
 "nbformat_minor": 4
}
